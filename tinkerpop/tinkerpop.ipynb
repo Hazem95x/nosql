{
 "cells": [
  {
   "cell_type": "markdown",
   "metadata": {},
   "source": [
    "![Apache TinkerPop](https://raw.githubusercontent.com/apache/tinkerpop/master/docs/static/images/tinkerpop-logo.png)"
   ]
  },
  {
   "cell_type": "markdown",
   "metadata": {},
   "source": []
  }
 ],
 "metadata": {
  "language_info": {
   "name": "python"
  },
  "orig_nbformat": 4
 },
 "nbformat": 4,
 "nbformat_minor": 2
}
