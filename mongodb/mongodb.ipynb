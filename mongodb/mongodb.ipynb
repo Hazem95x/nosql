{
 "cells": [
  {
   "cell_type": "markdown",
   "metadata": {},
   "source": [
    "![MongoDB](.././images/mongodb.png)"
   ]
  },
  {
   "cell_type": "markdown",
   "metadata": {},
   "source": [
    "**[SQL to MongoDB Mapping Chart](https://www.mongodb.com/docs/manual/reference/sql-comparison/)**"
   ]
  },
  {
   "cell_type": "markdown",
   "metadata": {},
   "source": [
    "`Instance {Databases {Collections {Documents {Fields}}}}`"
   ]
  },
  {
   "cell_type": "markdown",
   "metadata": {},
   "source": [
    "## Install"
   ]
  },
  {
   "cell_type": "markdown",
   "metadata": {},
   "source": [
    "`docker run --rm --name mongodb -e MONGO_INITDB_ROOT_USERNAME=admin -e MONGO_INITDB_ROOT_PASSWORD=P@ssw0rd mongo:6-jammy`"
   ]
  },
  {
   "cell_type": "markdown",
   "metadata": {},
   "source": [
    "### Create Database"
   ]
  },
  {
   "cell_type": "markdown",
   "metadata": {},
   "source": [
    "#### mongosh"
   ]
  },
  {
   "cell_type": "markdown",
   "metadata": {},
   "source": [
    "-- list databases  \n",
    "`show dbs`"
   ]
  },
  {
   "cell_type": "markdown",
   "metadata": {},
   "source": [
    "-- show current database  \n",
    "`db`"
   ]
  },
  {
   "cell_type": "markdown",
   "metadata": {},
   "source": [
    "-- create database  (implicitly)  or switch default database  \n",
    "`use newDB`\n"
   ]
  },
  {
   "cell_type": "markdown",
   "metadata": {},
   "source": [
    "-- change default database  \n",
    "`select newDB`"
   ]
  },
  {
   "cell_type": "markdown",
   "metadata": {},
   "source": [
    "-- create a collection (implicitly by adding a document)  \n",
    "`db.newCollection.insert( {x: 1} )`  \n",
    "-- or  \n",
    "`db.newCollection2.createIndex( { y: 1} )`"
   ]
  },
  {
   "cell_type": "markdown",
   "metadata": {},
   "source": [
    "-- create a collection (explicitly)  \n",
    "`db.createCollection(\"newCollection\")`"
   ]
  },
  {
   "cell_type": "markdown",
   "metadata": {},
   "source": []
  }
 ],
 "metadata": {
  "language_info": {
   "name": "python"
  },
  "orig_nbformat": 4
 },
 "nbformat": 4,
 "nbformat_minor": 2
}
